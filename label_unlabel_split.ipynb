{
 "cells": [
  {
   "cell_type": "code",
   "execution_count": 1,
   "metadata": {
    "collapsed": true
   },
   "outputs": [],
   "source": [
    "from __future__ import print_function\n",
    "import pickle \n",
    "import numpy as np\n",
    "import argparse\n",
    "import torch\n",
    "import torch.nn as nn\n",
    "import torch.nn.functional as F\n",
    "import torch.optim as optim\n",
    "from torchvision import datasets, transforms\n",
    "from torch.autograd import Variable"
   ]
  },
  {
   "cell_type": "code",
   "execution_count": 2,
   "metadata": {
    "collapsed": false
   },
   "outputs": [
    {
     "name": "stdout",
     "output_type": "stream",
     "text": [
      "Files already downloaded\n",
      "3000\n",
      "750\n"
     ]
    }
   ],
   "source": [
    "from sub import subMNIST       # testing the subclass of MNIST dataset"
   ]
  },
  {
   "cell_type": "markdown",
   "metadata": {},
   "source": [
    "# Split Data"
   ]
  },
  {
   "cell_type": "code",
   "execution_count": 3,
   "metadata": {
    "collapsed": true
   },
   "outputs": [],
   "source": [
    "transform=transforms.Compose([transforms.ToTensor(),\n",
    "                              transforms.Normalize((0.1307,), (0.3081,))\n",
    "                             ])"
   ]
  },
  {
   "cell_type": "code",
   "execution_count": 4,
   "metadata": {
    "collapsed": false
   },
   "outputs": [
    {
     "name": "stdout",
     "output_type": "stream",
     "text": [
      "Files already downloaded\n"
     ]
    }
   ],
   "source": [
    "trainset_original = datasets.MNIST('../data', train=True, download=True,\n",
    "                                  transform=transform)"
   ]
  },
  {
   "cell_type": "code",
   "execution_count": 5,
   "metadata": {
    "collapsed": false
   },
   "outputs": [],
   "source": [
    "train_label_index = []\n",
    "for i in range(10):\n",
    "    train_label_list = trainset_original.train_labels.numpy()\n",
    "    label_index = np.where(train_label_list == i)[0]\n",
    "    label_subindex = list(label_index[:300])\n",
    "    train_label_index += label_subindex"
   ]
  },
  {
   "cell_type": "code",
   "execution_count": 6,
   "metadata": {
    "collapsed": false
   },
   "outputs": [],
   "source": [
    "trainset_np = trainset_original.train_data.numpy()\n",
    "trainset_label_np = trainset_original.train_labels.numpy()\n",
    "train_data_sub = torch.from_numpy(trainset_np[train_label_index])\n",
    "train_labels_sub = torch.from_numpy(trainset_label_np[train_label_index])"
   ]
  },
  {
   "cell_type": "code",
   "execution_count": 7,
   "metadata": {
    "collapsed": false
   },
   "outputs": [
    {
     "name": "stdout",
     "output_type": "stream",
     "text": [
      "Files already downloaded\n"
     ]
    }
   ],
   "source": [
    "trainset_new = subMNIST(root='./data', train=True, download=True, transform=transform)\n",
    "trainset_new.train_data = train_data_sub.clone()\n",
    "trainset_new.train_labels = train_labels_sub.clone()"
   ]
  },
  {
   "cell_type": "code",
   "execution_count": 8,
   "metadata": {
    "collapsed": false
   },
   "outputs": [
    {
     "data": {
      "text/plain": [
       "torch.Size([3000, 28, 28])"
      ]
     },
     "execution_count": 8,
     "metadata": {},
     "output_type": "execute_result"
    }
   ],
   "source": [
    "trainset_new.train_data.size()"
   ]
  },
  {
   "cell_type": "code",
   "execution_count": 9,
   "metadata": {
    "collapsed": false
   },
   "outputs": [
    {
     "data": {
      "text/plain": [
       "torch.Size([3000])"
      ]
     },
     "execution_count": 9,
     "metadata": {},
     "output_type": "execute_result"
    }
   ],
   "source": [
    "trainset_new.train_labels.size()"
   ]
  },
  {
   "cell_type": "code",
   "execution_count": null,
   "metadata": {
    "collapsed": true
   },
   "outputs": [],
   "source": [
    "pickle.dump(trainset_new, open(\"train_labeled.p\", \"wb\" ))"
   ]
  },
  {
   "cell_type": "code",
   "execution_count": null,
   "metadata": {
    "collapsed": true
   },
   "outputs": [],
   "source": [
    "# TODO use make_grid to verify the label correspondence"
   ]
  },
  {
   "cell_type": "code",
   "execution_count": null,
   "metadata": {
    "collapsed": true
   },
   "outputs": [],
   "source": []
  },
  {
   "cell_type": "code",
   "execution_count": 10,
   "metadata": {
    "collapsed": false
   },
   "outputs": [],
   "source": [
    "train_unlabel_index = []\n",
    "for i in range(60000):\n",
    "    if i in train_label_index:\n",
    "        pass\n",
    "    else:\n",
    "        train_unlabel_index.append(i)"
   ]
  },
  {
   "cell_type": "code",
   "execution_count": 11,
   "metadata": {
    "collapsed": false
   },
   "outputs": [],
   "source": [
    "trainset_np = trainset_original.train_data.numpy()\n",
    "trainset_label_np = trainset_original.train_labels.numpy()\n",
    "train_data_sub_unl = torch.from_numpy(trainset_np[train_unlabel_index])\n",
    "train_labels_sub_unl = torch.from_numpy(trainset_label_np[train_unlabel_index])"
   ]
  },
  {
   "cell_type": "code",
   "execution_count": 12,
   "metadata": {
    "collapsed": false
   },
   "outputs": [
    {
     "name": "stdout",
     "output_type": "stream",
     "text": [
      "Files already downloaded\n"
     ]
    }
   ],
   "source": [
    "trainset_new_unl = subMNIST(root='./data', train=True, download=True, transform=transform)\n",
    "trainset_new_unl.train_data = train_data_sub_unl.clone()\n",
    "trainset_new_unl.train_labels = None      # Unlabeled!!"
   ]
  },
  {
   "cell_type": "code",
   "execution_count": 13,
   "metadata": {
    "collapsed": false
   },
   "outputs": [
    {
     "data": {
      "text/plain": [
       "torch.Size([57000, 28, 28])"
      ]
     },
     "execution_count": 13,
     "metadata": {},
     "output_type": "execute_result"
    }
   ],
   "source": [
    "trainset_new_unl.train_data.size()"
   ]
  },
  {
   "cell_type": "code",
   "execution_count": 15,
   "metadata": {
    "collapsed": false
   },
   "outputs": [],
   "source": [
    "trainset_new_unl.train_labels"
   ]
  },
  {
   "cell_type": "code",
   "execution_count": null,
   "metadata": {
    "collapsed": true
   },
   "outputs": [],
   "source": [
    "pickle.dump(trainset_new_unl, open(\"train_unlabeled.p\", \"wb\" ))"
   ]
  },
  {
   "cell_type": "markdown",
   "metadata": {},
   "source": [
    "# Train Model"
   ]
  },
  {
   "cell_type": "code",
   "execution_count": 29,
   "metadata": {
    "collapsed": false
   },
   "outputs": [],
   "source": [
    "train_loader = torch.utils.data.DataLoader(trainset_new, batch_size=64, shuffle=True)"
   ]
  },
  {
   "cell_type": "code",
   "execution_count": 30,
   "metadata": {
    "collapsed": false
   },
   "outputs": [],
   "source": [
    "test_loader = torch.utils.data.DataLoader(\n",
    "    datasets.MNIST('../data', train=False, transform=transforms.Compose([\n",
    "                       transforms.ToTensor(),\n",
    "                       transforms.Normalize((0.1307,), (0.3081,))\n",
    "                   ])),\n",
    "    batch_size=64, shuffle=False)"
   ]
  },
  {
   "cell_type": "code",
   "execution_count": 31,
   "metadata": {
    "collapsed": true
   },
   "outputs": [],
   "source": [
    "class Net(nn.Module):\n",
    "    def __init__(self):\n",
    "        super(Net, self).__init__()\n",
    "        self.conv1 = nn.Conv2d(1, 10, kernel_size=5)\n",
    "        self.conv2 = nn.Conv2d(10, 20, kernel_size=5)\n",
    "        self.conv2_drop = nn.Dropout2d()\n",
    "        self.fc1 = nn.Linear(320, 50)\n",
    "        self.fc2 = nn.Linear(50, 10)\n",
    "\n",
    "    def forward(self, x):\n",
    "        x = F.relu(F.max_pool2d(self.conv1(x), 2))\n",
    "        x = F.relu(F.max_pool2d(self.conv2_drop(self.conv2(x)), 2))\n",
    "        x = x.view(-1, 320)\n",
    "        x = F.relu(self.fc1(x))\n",
    "        x = F.dropout(x, training=self.training)\n",
    "        x = F.relu(self.fc2(x))\n",
    "        return F.log_softmax(x)\n",
    "\n",
    "model = Net()"
   ]
  },
  {
   "cell_type": "code",
   "execution_count": 32,
   "metadata": {
    "collapsed": false
   },
   "outputs": [],
   "source": [
    "if False:\n",
    "    model.cuda()"
   ]
  },
  {
   "cell_type": "code",
   "execution_count": 33,
   "metadata": {
    "collapsed": true
   },
   "outputs": [],
   "source": [
    "optimizer = optim.SGD(model.parameters(), lr=0.01, momentum=0.05)"
   ]
  },
  {
   "cell_type": "code",
   "execution_count": 34,
   "metadata": {
    "collapsed": false
   },
   "outputs": [],
   "source": [
    "# CPU only training\n",
    "def train(epoch):\n",
    "    model.train()\n",
    "    for batch_idx, (data, target) in enumerate(train_loader):\n",
    "\n",
    "        data, target = Variable(data), Variable(target)\n",
    "        optimizer.zero_grad()\n",
    "        output = model(data)\n",
    "        loss = F.nll_loss(output, target)\n",
    "        loss.backward()\n",
    "        optimizer.step()\n",
    "        if batch_idx % 10 == 0:\n",
    "            print('Train Epoch: {} [{}/{} ({:.0f}%)]\\tLoss: {:.6f}'.format(\n",
    "                epoch, batch_idx * len(data), len(train_loader.dataset),\n",
    "                100. * batch_idx / len(train_loader), loss.data[0]))\n",
    "\n",
    "def test(epoch):\n",
    "    model.eval()\n",
    "    test_loss = 0\n",
    "    correct = 0\n",
    "    for data, target in test_loader:\n",
    "\n",
    "        data, target = Variable(data, volatile=True), Variable(target)\n",
    "        output = model(data)\n",
    "        test_loss += F.nll_loss(output, target).data[0]\n",
    "        pred = output.data.max(1)[1] # get the index of the max log-probability\n",
    "        correct += pred.eq(target.data).cpu().sum()\n",
    "\n",
    "    test_loss = test_loss\n",
    "    test_loss /= len(test_loader) # loss function already averages over batch size\n",
    "    print('\\nTest set: Average loss: {:.4f}, Accuracy: {}/{} ({:.0f}%)\\n'.format(\n",
    "        test_loss, correct, len(test_loader.dataset),\n",
    "        100. * correct / len(test_loader.dataset)))"
   ]
  },
  {
   "cell_type": "code",
   "execution_count": 35,
   "metadata": {
    "collapsed": false
   },
   "outputs": [
    {
     "name": "stdout",
     "output_type": "stream",
     "text": [
      "Train Epoch: 1 [0/3000 (0%)]\tLoss: 2.331677\n",
      "Train Epoch: 1 [640/3000 (21%)]\tLoss: 2.298129\n",
      "Train Epoch: 1 [1280/3000 (43%)]\tLoss: 2.286512\n",
      "Train Epoch: 1 [1920/3000 (64%)]\tLoss: 2.315919\n",
      "Train Epoch: 1 [2560/3000 (85%)]\tLoss: 2.300783\n",
      "\n",
      "Test set: Average loss: 2.2938, Accuracy: 1372/10000 (14%)\n",
      "\n",
      "Train Epoch: 2 [0/3000 (0%)]\tLoss: 2.302953\n",
      "Train Epoch: 2 [640/3000 (21%)]\tLoss: 2.301131\n",
      "Train Epoch: 2 [1280/3000 (43%)]\tLoss: 2.290998\n",
      "Train Epoch: 2 [1920/3000 (64%)]\tLoss: 2.291497\n",
      "Train Epoch: 2 [2560/3000 (85%)]\tLoss: 2.283779\n",
      "\n",
      "Test set: Average loss: 2.2827, Accuracy: 2438/10000 (24%)\n",
      "\n",
      "Train Epoch: 3 [0/3000 (0%)]\tLoss: 2.297549\n",
      "Train Epoch: 3 [640/3000 (21%)]\tLoss: 2.301026\n",
      "Train Epoch: 3 [1280/3000 (43%)]\tLoss: 2.286832\n",
      "Train Epoch: 3 [1920/3000 (64%)]\tLoss: 2.267481\n",
      "Train Epoch: 3 [2560/3000 (85%)]\tLoss: 2.271231\n",
      "\n",
      "Test set: Average loss: 2.2657, Accuracy: 3213/10000 (32%)\n",
      "\n",
      "Train Epoch: 4 [0/3000 (0%)]\tLoss: 2.312938\n",
      "Train Epoch: 4 [640/3000 (21%)]\tLoss: 2.270188\n",
      "Train Epoch: 4 [1280/3000 (43%)]\tLoss: 2.276619\n",
      "Train Epoch: 4 [1920/3000 (64%)]\tLoss: 2.209581\n",
      "Train Epoch: 4 [2560/3000 (85%)]\tLoss: 2.240701\n",
      "\n",
      "Test set: Average loss: 2.2336, Accuracy: 3456/10000 (35%)\n",
      "\n",
      "Train Epoch: 5 [0/3000 (0%)]\tLoss: 2.249334\n",
      "Train Epoch: 5 [640/3000 (21%)]\tLoss: 2.232082\n",
      "Train Epoch: 5 [1280/3000 (43%)]\tLoss: 2.265762\n",
      "Train Epoch: 5 [1920/3000 (64%)]\tLoss: 2.198623\n",
      "Train Epoch: 5 [2560/3000 (85%)]\tLoss: 2.201871\n",
      "\n",
      "Test set: Average loss: 2.1789, Accuracy: 3878/10000 (39%)\n",
      "\n",
      "Train Epoch: 6 [0/3000 (0%)]\tLoss: 2.180009\n",
      "Train Epoch: 6 [640/3000 (21%)]\tLoss: 2.179431\n",
      "Train Epoch: 6 [1280/3000 (43%)]\tLoss: 2.211305\n",
      "Train Epoch: 6 [1920/3000 (64%)]\tLoss: 2.186433\n",
      "Train Epoch: 6 [2560/3000 (85%)]\tLoss: 2.113448\n",
      "\n",
      "Test set: Average loss: 2.0812, Accuracy: 4858/10000 (49%)\n",
      "\n",
      "Train Epoch: 7 [0/3000 (0%)]\tLoss: 2.192566\n",
      "Train Epoch: 7 [640/3000 (21%)]\tLoss: 2.086892\n",
      "Train Epoch: 7 [1280/3000 (43%)]\tLoss: 1.960663\n",
      "Train Epoch: 7 [1920/3000 (64%)]\tLoss: 2.017079\n",
      "Train Epoch: 7 [2560/3000 (85%)]\tLoss: 2.097130\n",
      "\n",
      "Test set: Average loss: 1.9173, Accuracy: 5929/10000 (59%)\n",
      "\n",
      "Train Epoch: 8 [0/3000 (0%)]\tLoss: 2.063663\n",
      "Train Epoch: 8 [640/3000 (21%)]\tLoss: 2.008614\n",
      "Train Epoch: 8 [1280/3000 (43%)]\tLoss: 2.119121\n",
      "Train Epoch: 8 [1920/3000 (64%)]\tLoss: 2.028126\n",
      "Train Epoch: 8 [2560/3000 (85%)]\tLoss: 1.913789\n",
      "\n",
      "Test set: Average loss: 1.6766, Accuracy: 6607/10000 (66%)\n",
      "\n",
      "Train Epoch: 9 [0/3000 (0%)]\tLoss: 1.751761\n",
      "Train Epoch: 9 [640/3000 (21%)]\tLoss: 1.605213\n",
      "Train Epoch: 9 [1280/3000 (43%)]\tLoss: 1.877449\n",
      "Train Epoch: 9 [1920/3000 (64%)]\tLoss: 1.805829\n",
      "Train Epoch: 9 [2560/3000 (85%)]\tLoss: 1.570071\n",
      "\n",
      "Test set: Average loss: 1.2974, Accuracy: 7629/10000 (76%)\n",
      "\n",
      "Train Epoch: 10 [0/3000 (0%)]\tLoss: 1.859205\n",
      "Train Epoch: 10 [640/3000 (21%)]\tLoss: 1.427396\n",
      "Train Epoch: 10 [1280/3000 (43%)]\tLoss: 1.533758\n",
      "Train Epoch: 10 [1920/3000 (64%)]\tLoss: 1.543681\n",
      "Train Epoch: 10 [2560/3000 (85%)]\tLoss: 1.218782\n",
      "\n",
      "Test set: Average loss: 0.9411, Accuracy: 8187/10000 (82%)\n",
      "\n"
     ]
    }
   ],
   "source": [
    "for epoch in range(1, 11):\n",
    "    train(epoch)\n",
    "    test(epoch)"
   ]
  },
  {
   "cell_type": "markdown",
   "metadata": {},
   "source": [
    "# Create Sample Submission"
   ]
  },
  {
   "cell_type": "code",
   "execution_count": 40,
   "metadata": {
    "collapsed": false
   },
   "outputs": [],
   "source": [
    "label_predict = np.array([])\n",
    "model.eval()\n",
    "for data, target in test_loader:\n",
    "    data, target = Variable(data, volatile=True), Variable(target)\n",
    "    output = model(data)\n",
    "    temp = output.data.max(1)[1].numpy().reshape(-1)\n",
    "    label_predict = np.concatenate((label_predict, temp))"
   ]
  },
  {
   "cell_type": "code",
   "execution_count": 41,
   "metadata": {
    "collapsed": false
   },
   "outputs": [
    {
     "data": {
      "text/plain": [
       "array([ 7.,  6.,  1., ...,  4.,  8.,  6.])"
      ]
     },
     "execution_count": 41,
     "metadata": {},
     "output_type": "execute_result"
    }
   ],
   "source": [
    "label_predict"
   ]
  },
  {
   "cell_type": "code",
   "execution_count": 42,
   "metadata": {
    "collapsed": false
   },
   "outputs": [],
   "source": [
    "label_true = test_loader.dataset.test_labels.numpy()"
   ]
  },
  {
   "cell_type": "code",
   "execution_count": 44,
   "metadata": {
    "collapsed": false
   },
   "outputs": [],
   "source": [
    "diff_array = label_true - label_predict"
   ]
  },
  {
   "cell_type": "code",
   "execution_count": 45,
   "metadata": {
    "collapsed": false
   },
   "outputs": [
    {
     "data": {
      "text/plain": [
       "1813"
      ]
     },
     "execution_count": 45,
     "metadata": {},
     "output_type": "execute_result"
    }
   ],
   "source": [
    "len(np.where(diff_array != 0)[0])"
   ]
  },
  {
   "cell_type": "code",
   "execution_count": 48,
   "metadata": {
    "collapsed": false
   },
   "outputs": [],
   "source": [
    "import pandas as pd\n",
    "true_label = pd.DataFrame(label_true, columns=['label'])\n",
    "true_label.reset_index(inplace=True)\n",
    "true_label.rename(columns={'index': 'ID'}, inplace=True)"
   ]
  },
  {
   "cell_type": "code",
   "execution_count": 49,
   "metadata": {
    "collapsed": false
   },
   "outputs": [
    {
     "data": {
      "text/html": [
       "<div>\n",
       "<table border=\"1\" class=\"dataframe\">\n",
       "  <thead>\n",
       "    <tr style=\"text-align: right;\">\n",
       "      <th></th>\n",
       "      <th>ID</th>\n",
       "      <th>label</th>\n",
       "    </tr>\n",
       "  </thead>\n",
       "  <tbody>\n",
       "    <tr>\n",
       "      <th>0</th>\n",
       "      <td>0</td>\n",
       "      <td>7</td>\n",
       "    </tr>\n",
       "    <tr>\n",
       "      <th>1</th>\n",
       "      <td>1</td>\n",
       "      <td>2</td>\n",
       "    </tr>\n",
       "    <tr>\n",
       "      <th>2</th>\n",
       "      <td>2</td>\n",
       "      <td>1</td>\n",
       "    </tr>\n",
       "    <tr>\n",
       "      <th>3</th>\n",
       "      <td>3</td>\n",
       "      <td>0</td>\n",
       "    </tr>\n",
       "    <tr>\n",
       "      <th>4</th>\n",
       "      <td>4</td>\n",
       "      <td>4</td>\n",
       "    </tr>\n",
       "  </tbody>\n",
       "</table>\n",
       "</div>"
      ],
      "text/plain": [
       "   ID  label\n",
       "0   0      7\n",
       "1   1      2\n",
       "2   2      1\n",
       "3   3      0\n",
       "4   4      4"
      ]
     },
     "execution_count": 49,
     "metadata": {},
     "output_type": "execute_result"
    }
   ],
   "source": [
    "true_label.head()"
   ]
  },
  {
   "cell_type": "code",
   "execution_count": 50,
   "metadata": {
    "collapsed": true
   },
   "outputs": [],
   "source": [
    "predict_label = pd.DataFrame(label_predict, columns=['label'], dtype=int)\n",
    "predict_label.reset_index(inplace=True)\n",
    "predict_label.rename(columns={'index': 'ID'}, inplace=True)"
   ]
  },
  {
   "cell_type": "code",
   "execution_count": 52,
   "metadata": {
    "collapsed": false
   },
   "outputs": [
    {
     "data": {
      "text/html": [
       "<div>\n",
       "<table border=\"1\" class=\"dataframe\">\n",
       "  <thead>\n",
       "    <tr style=\"text-align: right;\">\n",
       "      <th></th>\n",
       "      <th>ID</th>\n",
       "      <th>label</th>\n",
       "    </tr>\n",
       "  </thead>\n",
       "  <tbody>\n",
       "    <tr>\n",
       "      <th>0</th>\n",
       "      <td>0</td>\n",
       "      <td>7</td>\n",
       "    </tr>\n",
       "    <tr>\n",
       "      <th>1</th>\n",
       "      <td>1</td>\n",
       "      <td>6</td>\n",
       "    </tr>\n",
       "    <tr>\n",
       "      <th>2</th>\n",
       "      <td>2</td>\n",
       "      <td>1</td>\n",
       "    </tr>\n",
       "    <tr>\n",
       "      <th>3</th>\n",
       "      <td>3</td>\n",
       "      <td>0</td>\n",
       "    </tr>\n",
       "    <tr>\n",
       "      <th>4</th>\n",
       "      <td>4</td>\n",
       "      <td>4</td>\n",
       "    </tr>\n",
       "  </tbody>\n",
       "</table>\n",
       "</div>"
      ],
      "text/plain": [
       "   ID  label\n",
       "0   0      7\n",
       "1   1      6\n",
       "2   2      1\n",
       "3   3      0\n",
       "4   4      4"
      ]
     },
     "execution_count": 52,
     "metadata": {},
     "output_type": "execute_result"
    }
   ],
   "source": [
    "predict_label.head()"
   ]
  },
  {
   "cell_type": "code",
   "execution_count": 53,
   "metadata": {
    "collapsed": false
   },
   "outputs": [],
   "source": [
    "predict_label.to_csv('sample_submission.csv', index=False)\n",
    "true_label.to_csv('true_label.csv', index=False)"
   ]
  }
 ],
 "metadata": {
  "anaconda-cloud": {},
  "kernelspec": {
   "display_name": "Python [conda root]",
   "language": "python",
   "name": "conda-root-py"
  },
  "language_info": {
   "codemirror_mode": {
    "name": "ipython",
    "version": 3
   },
   "file_extension": ".py",
   "mimetype": "text/x-python",
   "name": "python",
   "nbconvert_exporter": "python",
   "pygments_lexer": "ipython3",
   "version": "3.5.2"
  }
 },
 "nbformat": 4,
 "nbformat_minor": 2
}
